{
 "cells": [
  {
   "cell_type": "code",
   "execution_count": 2,
   "metadata": {},
   "outputs": [],
   "source": [
    "## generate graph\n",
    "import numpy as np\n",
    "import json \n",
    "import networkx as nx\n",
    "import matplotlib "
   ]
  },
  {
   "cell_type": "code",
   "execution_count": 117,
   "metadata": {},
   "outputs": [],
   "source": [
    "\"\"\"\n",
    "README\n",
    "\n",
    "readdata: read the data into env\n",
    "genereatedata: generate data and weight,\n",
    "data is 2d list, [[],[],[]], describing connectivity\n",
    "weight is also 2d list, the same shape as data, describing weight\n",
    "other functions are test the correctness of data.\n",
    "\"\"\"\n",
    "\n",
    "def readdata(filename):\n",
    "    \"\"\"\n",
    "    :type: filename: string [input file.]\n",
    "    :rtype: [[List]]\n",
    "    \"\"\"\n",
    "    with open(filename, 'r') as f:\n",
    "        tmpmap = json.load(f)\n",
    "    return tmpmap['adjacent'],tmpmap['adjweight'], tmpmap['edgeweight'], tmpmap['graphinfo']\n",
    "\n",
    "def genereatedata(N, dumpdata=False,filename=None):\n",
    "    \"\"\"\n",
    "    :type: N: integer [vertex Number.]\n",
    "    :type: dumpdata: Whether we want to save the data. default False\n",
    "    :type: filename: if we want to save data, filename is ? save to the same dir.\n",
    "    :rtype: None\n",
    "    \"\"\"\n",
    "    vertex = np.arange(N)\n",
    "    np.random.shuffle(vertex) # vertex count \n",
    "    data = [[] for i in range(N)] # connect relation\n",
    "    weight = [[] for i in range(N)] # weight value\n",
    "    edgeweight = [] # edge weight [[5,6,7...],[2,3,4...],[7,8,9...]]\n",
    "    for i in range(vertex.shape[0]):\n",
    "        p = np.random.uniform(size=1)[0] # how many out degree\n",
    "        outdegree = int(p*(N-i-1)) # how many out degree\n",
    "        if outdegree == 0:\n",
    "            continue\n",
    "        for j in np.random.permutation(np.arange(i+1, N))[:outdegree]:\n",
    "            data[i].append(vertex[j]) # conect \n",
    "        weight[i].extend(np.random.randint(low=1,high=1024,size=outdegree))\n",
    "    retdata = [None for i in range(N)]\n",
    "    retweight = [None for i in range(N)]\n",
    "    for i in range(len(data)):\n",
    "        retdata[vertex[i]] = data[i]\n",
    "        retweight[vertex[i]] = weight[i]\n",
    "    edgenumber = 0\n",
    "    for i in range(len(retdata)):\n",
    "        for j in range(len(retdata[i])):\n",
    "            retdata[i][j] = int(retdata[i][j])\n",
    "            retweight[i][j] = int(retweight[i][j])\n",
    "            edgeweight.append([i,j,retweight[i][j]])\n",
    "            edgenumber += 1\n",
    "    graphinfo = {}\n",
    "    graphinfo['edgenumber'] = edgenumber\n",
    "    graphinfo['vertexnumber'] = len(retdata)\n",
    "    if dumpdata:\n",
    "        assert(filename)\n",
    "        with open(filename, 'w') as f:\n",
    "            tmpmap = {}\n",
    "            tmpmap [\"adjacent\"] = retdata\n",
    "            tmpmap [\"adjweight\"] = retweight\n",
    "            tmpmap [\"edgeweight\"] = edgeweight\n",
    "            tmpmap [\"graphinfo\"] = graphinfo\n",
    "            json.dump(tmpmap, f)\n",
    "    return retdata,retweight,edgeweight,graphinfo\n",
    "\n",
    "def check_rightness(start, end, your_result, retdata, retweight):\n",
    "    G = toG(retdata, retweight)\n",
    "    sppinfo = nx.all_pairs_dijkstra(G)\n",
    "    rightness = True\n",
    "    assert(start in sppinfo.keys() and end in sppinfo.keys())\n",
    "    if end not in sppinfo[start][0].keys():\n",
    "        if your_result == None:\n",
    "            print(\"Correct\")\n",
    "        else:\n",
    "            rightness = False\n",
    "            print(\"Wrong\")\n",
    "    else:\n",
    "        assert(your_result != None)\n",
    "        assert(type(your_result) == type([]))\n",
    "        for i in range(len(sppinfo[start][1])):\n",
    "            if(sppinfo[start][i] != end):\n",
    "                print(\"Wrong\")\n",
    "                rightness = False\n",
    "            break\n",
    "        if rightness:\n",
    "            print(\"Correct\")\n",
    "        else:\n",
    "            print(\"Wrong\")\n",
    "    return rightness\n",
    "    \n",
    "def toG(ret, weight):\n",
    "    \"\"\"\n",
    "    to G of networkx\n",
    "    \"\"\"\n",
    "    G = nx.DiGraph()\n",
    "    G.add_nodes_from([i for i in range(len(ret))])\n",
    "    for i in range(len(ret)):\n",
    "        for j in range(len(ret[i])):\n",
    "            G.add_edge(i,ret[i][j],weight=weight[i][j])\n",
    "    return G\n",
    "\n",
    "def check_dag():\n",
    "    for i in range(100):\n",
    "        ret,weight,edgeweight,graphinfo = genereatedata(100)\n",
    "        G = toG(ret,weight)\n",
    "        if not nx.algorithms.dag.is_directed_acyclic_graph(G):\n",
    "            print(\"wrong\")"
   ]
  },
  {
   "cell_type": "code",
   "execution_count": 118,
   "metadata": {},
   "outputs": [],
   "source": [
    "check_dag() #Check that our generated graph is a DAG."
   ]
  },
  {
   "cell_type": "code",
   "execution_count": 119,
   "metadata": {},
   "outputs": [],
   "source": [
    "# means generate 10 vertex\n",
    "ret,weight,edgeweight,graphinfo = genereatedata(10, True, \"dataset1\")"
   ]
  },
  {
   "cell_type": "code",
   "execution_count": 120,
   "metadata": {},
   "outputs": [
    {
     "name": "stdout",
     "output_type": "stream",
     "text": [
      "edge wegiht:\n",
      " [[0, 0, 965], [0, 1, 405], [4, 0, 901], [4, 1, 188], [6, 0, 780], [6, 1, 84], [6, 2, 611], [6, 3, 169], [6, 4, 566], [7, 0, 499], [7, 1, 240], [7, 2, 49], [9, 0, 143]]\n",
      "adjacent matrix:\n",
      " [[8, 1], [], [], [], [9, 8], [], [1, 5, 4, 2, 0], [2, 1, 4], [], [1]]\n",
      "adjacent weight:\n",
      " [[965, 405], [], [], [], [901, 188], [], [780, 84, 611, 169, 566], [499, 240, 49], [], [143]]\n"
     ]
    }
   ],
   "source": [
    "# read dataset\n",
    "adjacent, adjacentweight, edgeweight, graphinfo = readdata('dataset1')\n",
    "print(\"edge wegiht:\\n\",edgeweight)\n",
    "print(\"adjacent matrix:\\n\",adjacent)\n",
    "print(\"adjacent weight:\\n\",adjacentweight)"
   ]
  },
  {
   "cell_type": "code",
   "execution_count": 121,
   "metadata": {},
   "outputs": [
    {
     "data": {
      "image/png": "[encoded data removed]",
      "text/plain": [
       "<Figure size 432x288 with 1 Axes>"
      ]
     },
     "metadata": {},
     "output_type": "display_data"
    }
   ],
   "source": [
    "# change G to \n",
    "G = toG(adjacent, adjacentweight)\n",
    "# draw G\n",
    "nx.draw(G, with_labels=True, font_weight='bold')"
   ]
  },
  {
   "cell_type": "code",
   "execution_count": 124,
   "metadata": {},
   "outputs": [
    {
     "name": "stdout",
     "output_type": "stream",
     "text": [
      "{0: ({0: 0, 1: 405, 8: 965}, {0: [0], 8: [0, 8], 1: [0, 1]}), 1: ({1: 0}, {1: [1]}), 2: ({2: 0}, {2: [2]}), 3: ({3: 0}, {3: [3]}), 4: ({4: 0, 8: 188, 9: 901, 1: 1044}, {4: [4], 9: [4, 9], 8: [4, 8], 1: [4, 9, 1]}), 5: ({5: 0}, {5: [5]}), 6: ({6: 0, 5: 84, 2: 169, 0: 566, 4: 611, 1: 780, 8: 799, 9: 1512}, {6: [6], 1: [6, 1], 5: [6, 5], 4: [6, 4], 2: [6, 2], 0: [6, 0], 8: [6, 4, 8], 9: [6, 4, 9]}), 7: ({7: 0, 4: 49, 8: 237, 1: 240, 2: 499, 9: 950}, {7: [7], 2: [7, 2], 1: [7, 1], 4: [7, 4], 9: [7, 4, 9], 8: [7, 4, 8]}), 8: ({8: 0}, {8: [8]}), 9: ({9: 0, 1: 143}, {9: [9], 1: [9, 1]})}\n"
     ]
    }
   ],
   "source": [
    "sppinfo = dict(nx.all_pairs_dijkstra(G))\n",
    "print(sppinfo)"
   ]
  },
  {
   "cell_type": "code",
   "execution_count": 68,
   "metadata": {},
   "outputs": [],
   "source": [
    "# algorithm 1\n",
    "# djkstra\n"
   ]
  },
  {
   "cell_type": "code",
   "execution_count": null,
   "metadata": {},
   "outputs": [],
   "source": []
  }
 ],
 "metadata": {
  "kernelspec": {
   "display_name": "Python 3",
   "language": "python",
   "name": "python3"
  },
  "language_info": {
   "codemirror_mode": {
    "name": "ipython",
    "version": 3
   },
   "file_extension": ".py",
   "mimetype": "text/x-python",
   "name": "python",
   "nbconvert_exporter": "python",
   "pygments_lexer": "ipython3",
   "version": "3.7.3"
  }
 },
 "nbformat": 4,
 "nbformat_minor": 2
}
